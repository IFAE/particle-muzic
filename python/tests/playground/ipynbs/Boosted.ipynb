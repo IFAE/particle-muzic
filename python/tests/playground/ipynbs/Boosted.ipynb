{
 "cells": [
  {
   "cell_type": "code",
   "execution_count": 1,
   "metadata": {},
   "outputs": [],
   "source": [
    "%load_ext autoreload\n",
    "%autoreload 2"
   ]
  },
  {
   "cell_type": "code",
   "execution_count": 6,
   "metadata": {},
   "outputs": [],
   "source": [
    "from __future__ import print_function\n",
    "import sys\n",
    "python_path = '/Users/sgrinschpun/code/particle-muzic/python'\n",
    "sys.path.append(python_path)\n",
    "\n",
    "import math, random\n",
    "\n",
    "from phenomena.particles.particle import ParticleDT\n",
    "from phenomena.particles.particle_boosted import ParticleBoosted\n",
    "from phenomena.particles.kinematics.parameters import boostParams\n",
    "from phenomena.particles.kinematics.decay.calculations import DecayCalc"
   ]
  },
  {
   "cell_type": "code",
   "execution_count": 24,
   "metadata": {},
   "outputs": [],
   "source": [
    "pi = ParticleBoosted('pi+', theta=3, p=1)"
   ]
  },
  {
   "cell_type": "code",
   "execution_count": 25,
   "metadata": {},
   "outputs": [
    {
     "data": {
      "text/plain": [
       "[{'name': 'mu+', 'p': 0.5745297057569214, 'theta': 3.0092610778564186},\n",
       " {'name': 'nu_mu', 'p': 0.42552819758962207, 'theta': 2.9874959474833456}]"
      ]
     },
     "execution_count": 25,
     "metadata": {},
     "output_type": "execute_result"
    }
   ],
   "source": [
    "pi.decayvalues"
   ]
  },
  {
   "cell_type": "code",
   "execution_count": null,
   "metadata": {},
   "outputs": [],
   "source": [
    "test = DecayCalc (pi0.mass, 1, 0,pi0.decay, [0,math.pi] )"
   ]
  },
  {
   "cell_type": "code",
   "execution_count": 9,
   "metadata": {},
   "outputs": [],
   "source": [
    "def one():\n",
    "    return \"one\"\n",
    "def two():\n",
    "    return \"two\"\n",
    "\n",
    "switcher = {\n",
    "        1: one,\n",
    "        2: two,\n",
    "}\n",
    "\n"
   ]
  },
  {
   "cell_type": "code",
   "execution_count": 11,
   "metadata": {},
   "outputs": [
    {
     "data": {
      "text/plain": [
       "'one'"
      ]
     },
     "execution_count": 11,
     "metadata": {},
     "output_type": "execute_result"
    }
   ],
   "source": [
    "switcher.get(1)()"
   ]
  },
  {
   "cell_type": "code",
   "execution_count": null,
   "metadata": {},
   "outputs": [],
   "source": []
  }
 ],
 "metadata": {
  "kernelspec": {
   "display_name": "particles",
   "language": "python",
   "name": "particles"
  },
  "language_info": {
   "codemirror_mode": {
    "name": "ipython",
    "version": 2
   },
   "file_extension": ".py",
   "mimetype": "text/x-python",
   "name": "python",
   "nbconvert_exporter": "python",
   "pygments_lexer": "ipython2",
   "version": "2.7.10"
  }
 },
 "nbformat": 4,
 "nbformat_minor": 2
}
