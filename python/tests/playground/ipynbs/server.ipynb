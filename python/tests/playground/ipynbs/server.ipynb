{
 "cells": [
  {
   "cell_type": "code",
   "execution_count": 1,
   "metadata": {},
   "outputs": [],
   "source": [
    "%load_ext autoreload\n",
    "%autoreload 2"
   ]
  },
  {
   "cell_type": "code",
   "execution_count": 1,
   "metadata": {},
   "outputs": [],
   "source": [
    "import sys, math\n",
    "python_path = '/Users/sergi/Desktop/IFAE/particle-muzic/python'\n",
    "sys.path.append(python_path)\n",
    "\n",
    "from phenomena.phenomena_client import Phenomena\n",
    "from phenomena.connection.phenomena_server import PhenomenaServer\n",
    "from phenomena.nodes.node_controller import NodeController"
   ]
  },
  {
   "cell_type": "code",
   "execution_count": 6,
   "metadata": {},
   "outputs": [],
   "source": [
    "server = PhenomenaServer()\n",
    "server.startServer()"
   ]
  },
  {
   "cell_type": "code",
   "execution_count": 9,
   "metadata": {},
   "outputs": [
    {
     "name": "stdout",
     "output_type": "stream",
     "text": [
      "FAILED ! Outcoming message: type: 0 id 6 Name: ADD Module Path: node Return: Exception: Type: <type 'exceptions.Exception'> Name: commons.py Line: 75 Messsage: Failed adding Particle on JsonRemoteAudioVideoNode cause:  \n"
     ]
    }
   ],
   "source": [
    "phenomena = Phenomena()\n",
    "for i in range(1):\n",
    "    print phenomena.addParticle(\"K+\", p=0.05)"
   ]
  },
  {
   "cell_type": "code",
   "execution_count": null,
   "metadata": {},
   "outputs": [],
   "source": []
  },
  {
   "cell_type": "code",
   "execution_count": null,
   "metadata": {},
   "outputs": [],
   "source": []
  }
 ],
 "metadata": {
  "kernelspec": {
   "display_name": "Python 2",
   "language": "python",
   "name": "python2"
  },
  "language_info": {
   "codemirror_mode": {
    "name": "ipython",
    "version": 2
   },
   "file_extension": ".py",
   "mimetype": "text/x-python",
   "name": "python",
   "nbconvert_exporter": "python",
   "pygments_lexer": "ipython2",
   "version": "2.7.15"
  }
 },
 "nbformat": 4,
 "nbformat_minor": 2
}
