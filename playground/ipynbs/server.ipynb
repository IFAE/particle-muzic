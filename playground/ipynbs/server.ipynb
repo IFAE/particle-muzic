{
 "cells": [
  {
   "cell_type": "code",
   "execution_count": 1,
   "metadata": {},
   "outputs": [],
   "source": [
    "%load_ext autoreload\n",
    "%autoreload 2"
   ]
  },
  {
   "cell_type": "code",
   "execution_count": 2,
   "metadata": {},
   "outputs": [],
   "source": [
    "import sys, math\n",
    "python_path = '/Users/sgrinschpun/code/particle-muzic/python'\n",
    "sys.path.append(python_path)\n",
    "\n",
    "from phenomena.phenomena_client import Phenomena\n",
    "from phenomena.connection.phenomena_server import PhenomenaServer\n",
    "from phenomena.nodes.node_controller import NodeController"
   ]
  },
  {
   "cell_type": "code",
   "execution_count": 3,
   "metadata": {},
   "outputs": [
    {
     "name": "stdout",
     "output_type": "stream",
     "text": [
      "[<phenomena.particles.particle_action.ParticleEntryNode object at 0x107626dd0>, <phenomena.nodes.audiovideo_node.JsonRemoteAudioVideoNode object at 0x107626e10>]\n",
      "[<phenomena.particles.particle_action.ParticleEntryNode object at 0x107626dd0>, <phenomena.nodes.audiovideo_node.JsonRemoteAudioVideoNode object at 0x107626e10>, <phenomena.particles.particle_action.ParticleAccumulatorNode object at 0x107626e50>]\n"
     ]
    }
   ],
   "source": [
    "server = PhenomenaServer()\n",
    "server.startServer()"
   ]
  },
  {
   "cell_type": "code",
   "execution_count": 54,
   "metadata": {},
   "outputs": [
    {
     "name": "stdout",
     "output_type": "stream",
     "text": [
      "{u'MODULE_PATH': u'node', u'COMMAND_ID': 51, u'PARAMS': {u'particle_name': u'K+', u'E': None, u'theta': 0, u'p': 0.05}, u'COMMAND_NAME': u'ADD'}\n",
      "THIS:  K+ <type 'unicode'>\n",
      "0\n",
      "Accumulating particle: K+\n",
      "Wait for:  2.56069793496\n",
      "OK ! Outcoming message: type: 1 id 51 Name: ADD Module Path: node\n",
      "particle: K+ Will transform in:   New particles: \n",
      "pi+ 0.194170884223 1.1648814727\n",
      "pi0 0.218790660084 0.953348406029\n",
      "Accumulating particle: pi+\n",
      "Wait for:  2.4440240981\n",
      "Accumulating particle: pi0\n",
      "Wait for:  2.34702447206\n",
      "removing:  K+\n",
      "Values inside:  14\n",
      "particle: pi0 Will transform in:   New particles: \n",
      "gamma 0.108315921113 0.294324204437\n",
      "gamma 0.148761797369 1.41548211052\n",
      "Accumulating particle: gamma\n",
      "Wait for:  10\n",
      "Accumulating particle: gamma\n",
      "Wait for:  10\n",
      "removing:  pi0\n",
      "Values inside:  15\n",
      "particle: pi+ Will transform in:   New particles: \n",
      "mu+ 0.123308941166 1.35556431939\n",
      "nu_mu 0.0767420798182 0.855430975877\n",
      "Accumulating particle: mu+\n",
      "Wait for:  2.54893866959\n",
      "Accumulating particle: nu_mu\n",
      "Wait for:  10\n",
      "removing:  pi+\n",
      "Values inside:  16\n",
      "particle: mu+ Will transform in:   New particles: \n",
      "nu_e 0.883721097458 3.25521892644\n",
      "e+ 4.61613760884 4.19368398612\n",
      "nu_mubar 4.50876841899 1.86081556035\n",
      "Accumulating particle: nu_e\n",
      "Wait for:  10\n",
      "Accumulating particle: e+\n",
      "Wait for:  10\n",
      "Accumulating particle: nu_mubar\n",
      "Wait for:  10\n",
      "removing:  mu+\n",
      "Values inside:  18\n",
      "particle: gamma Will transform in:   New particles: \n",
      "removing:  gamma\n",
      "Values inside:  17\n",
      "particle: gamma Will transform in:   New particles: \n",
      "removing:  gamma\n",
      "Values inside:  16\n",
      "particle: nu_mu Will transform in:   New particles: \n",
      "removing:  nu_mu\n",
      "Values inside:  15\n",
      "particle: nu_e Will transform in:   New particles: \n",
      "removing:  nu_e\n",
      "Values inside:  14\n",
      "particle: e+ Will transform in:   New particles: \n",
      "removing:  e+\n",
      "Values inside:  13\n",
      "particle: nu_mubar Will transform in:   New particles: \n",
      "removing:  nu_mubar\n",
      "Values inside:  12\n"
     ]
    }
   ],
   "source": [
    "phenomena = Phenomena()\n",
    "for i in range(1):\n",
    "    print phenomena.addParticle(\"K+\", p=0.05)"
   ]
  },
  {
   "cell_type": "code",
   "execution_count": null,
   "metadata": {},
   "outputs": [],
   "source": []
  },
  {
   "cell_type": "code",
   "execution_count": null,
   "metadata": {},
   "outputs": [],
   "source": []
  }
 ],
 "metadata": {
  "kernelspec": {
   "display_name": "particles",
   "language": "python",
   "name": "particles"
  },
  "language_info": {
   "codemirror_mode": {
    "name": "ipython",
    "version": 2
   },
   "file_extension": ".py",
   "mimetype": "text/x-python",
   "name": "python",
   "nbconvert_exporter": "python",
   "pygments_lexer": "ipython2",
   "version": "2.7.10"
  }
 },
 "nbformat": 4,
 "nbformat_minor": 2
}
